<h1>Capstone Project</h1>
import pandas as pd
import numpy as np
print ("Hello Capstone Project Course!")